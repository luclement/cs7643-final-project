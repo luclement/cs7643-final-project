{
  "cells": [
    {
      "cell_type": "markdown",
      "metadata": {
        "colab_type": "text",
        "id": "view-in-github"
      },
      "source": [
        "<a href=\"https://colab.research.google.com/github/luclement/cs7643-final-project/blob/master/train.ipynb\" target=\"_parent\"><img src=\"https://colab.research.google.com/assets/colab-badge.svg\" alt=\"Open In Colab\"/></a>"
      ]
    },
    {
      "cell_type": "code",
      "execution_count": null,
      "metadata": {},
      "outputs": [],
      "source": [
        "!pip install 'h5py==2.10.0' --force-reinstall"
      ]
    },
    {
      "cell_type": "code",
      "execution_count": 1,
      "metadata": {
        "colab": {
          "base_uri": "https://localhost:8080/"
        },
        "id": "6UkiuBikswkf",
        "outputId": "e56fed19-9d5b-4e47-afa5-b19f1c0c1263"
      },
      "outputs": [
        {
          "name": "stdout",
          "output_type": "stream",
          "text": [
            "[WinError 3] The system cannot find the path specified: '/content/drive/MyDrive/AnimeGan/AnimeGAN-master/'\n",
            "c:\\Users\\wooae\\OneDrive\\Documents\\OMSCS\\cs7643\\cs7643-final-project\n"
          ]
        },
        {
          "name": "stderr",
          "output_type": "stream",
          "text": [
            "UsageError: Line magic function `%tensorflow_version` not found.\n"
          ]
        }
      ],
      "source": [
        "# Mount the project files to Google Drive or upload them, be sure to change the directory accordingly\n",
        "\n",
        "%cd /content/drive/MyDrive/AnimeGan/AnimeGAN-master/\n",
        "\n",
        "# This project uses TF v1.x\n",
        "%tensorflow_version 1.x\n",
        "\n",
        "# Add required files for python modules\n",
        "!touch __init__.py\n",
        "!touch tools/__init__.py\n",
        "\n",
        "# Get vgg19\n",
        "\n",
        "!wget -nc --directory-prefix=vgg19_weight/ https://github.com/TachibanaYoshino/AnimeGAN/releases/download/vgg16%2F19.npy/vgg19.npy"
      ]
    },
    {
      "cell_type": "code",
      "execution_count": 4,
      "metadata": {
        "colab": {
          "base_uri": "https://localhost:8080/"
        },
        "id": "kUx2iQQerf0m",
        "outputId": "def725f7-f43f-4b41-c7f1-c7fde7c41c13"
      },
      "outputs": [
        {
          "name": "stdout",
          "output_type": "stream",
          "text": [
            "/content/drive/MyDrive/AnimeGan/AnimeGAN-master\n",
            "File ‘dataset.zip’ already there; not retrieving.\n",
            "\n"
          ]
        }
      ],
      "source": [
        "!pwd\n",
        "\n",
        "# Download train data\n",
        "!wget -nc https://github.com/TachibanaYoshino/AnimeGAN/releases/download/dataset-1/dataset.zip\n",
        "\n",
        "!unzip -q -n dataset.zip -d ./dataset\n",
        "\n",
        "# # Download spirited away data\n",
        "# !wget -nc https://github.com/TachibanaYoshino/AnimeGAN/releases/download/dataset-1/spirit.away.zip\n",
        "\n",
        "# !unzip -q -n spirit.away.zip -d ./test_data"
      ]
    },
    {
      "cell_type": "code",
      "execution_count": 1,
      "metadata": {
        "colab": {
          "base_uri": "https://localhost:8080/"
        },
        "id": "OLhmx2vTlzAx",
        "outputId": "2c2f3647-b8ed-4aa7-8828-2504f3f1f4fe"
      },
      "outputs": [
        {
          "name": "stdout",
          "output_type": "stream",
          "text": [
            "[name: \"/device:CPU:0\"\n",
            "device_type: \"CPU\"\n",
            "memory_limit: 268435456\n",
            "locality {\n",
            "}\n",
            "incarnation: 18229547705649586231\n",
            ", name: \"/device:GPU:0\"\n",
            "device_type: \"GPU\"\n",
            "memory_limit: 7022277428\n",
            "locality {\n",
            "  bus_id: 1\n",
            "  links {\n",
            "  }\n",
            "}\n",
            "incarnation: 12960501778781452555\n",
            "physical_device_desc: \"device: 0, name: NVIDIA GeForce RTX 2070 Super, pci bus id: 0000:01:00.0, compute capability: 7.5\"\n",
            "]\n"
          ]
        }
      ],
      "source": [
        "import tensorflow as tf\n",
        "from tensorflow.python.client import device_lib\n",
        "\n",
        "print(device_lib.list_local_devices())\n",
        "tf.debugging.set_log_device_placement(True)"
      ]
    },
    {
      "cell_type": "code",
      "execution_count": 16,
      "metadata": {
        "colab": {
          "base_uri": "https://localhost:8080/"
        },
        "id": "ZyHFN4U4uAFN",
        "outputId": "7eed7723-ee8c-4ecc-b811-344c2e750511"
      },
      "outputs": [
        {
          "name": "stderr",
          "output_type": "stream",
          "text": [
            "'PYTHONPATH' is not recognized as an internal or external command,\n",
            "operable program or batch file.\n",
            "Traceback (most recent call last):\n",
            "  File \"C:\\Users\\wooae\\Anaconda3\\envs\\animegan\\lib\\runpy.py\", line 193, in _run_module_as_main\n",
            "    \"__main__\", mod_spec)\n",
            "  File \"C:\\Users\\wooae\\Anaconda3\\envs\\animegan\\lib\\runpy.py\", line 85, in _run_code\n",
            "    exec(code, run_globals)\n",
            "  File \"c:\\Users\\wooae\\OneDrive\\Documents\\OMSCS\\cs7643\\cs7643-final-project\\edge_smooth.py\", line 8, in <module>\n",
            "    from tools.utils import check_folder\n",
            "ModuleNotFoundError: No module named 'tools.utils'\n",
            "C:\\Users\\wooae\\Anaconda3\\envs\\animegan\\python.exe: No module named tools\\data_mean\n"
          ]
        }
      ],
      "source": [
        "# Change training dataset here\n",
        "train_set = \"Hayao\"\n",
        "\n",
        "!python -m edge_smooth --dataset $train_set --img_size 256\n",
        "\n",
        "!python -m tools\\data_mean --dataset $train_set"
      ]
    },
    {
      "cell_type": "code",
      "execution_count": null,
      "metadata": {
        "id": "usN18TzqkbNk"
      },
      "outputs": [],
      "source": [
        "# For training to work, please modify the data_mean arg line in main.py, otherwise you will get an error similar to the following:\n",
        "# https://github.com/TachibanaYoshino/AnimeGAN/issues/48\n",
        "\n",
        "# parser.add_argument('--data_mean', nargs=\"*\", type=float, default=[13.1360, -8.6698, -4.4661], help='data_mean(bgr) from data_mean.py')"
      ]
    },
    {
      "cell_type": "code",
      "execution_count": 17,
      "metadata": {
        "colab": {
          "base_uri": "https://localhost:8080/"
        },
        "id": "dkuWxECw9lEv",
        "outputId": "b0bf7e91-17b3-4daa-8a8b-b030e3f8c605"
      },
      "outputs": [
        {
          "name": "stderr",
          "output_type": "stream",
          "text": [
            "Traceback (most recent call last):\n",
            "  File \"main.py\", line 1, in <module>\n",
            "    from AnimeGANv2 import AnimeGANv2\n",
            "  File \"c:\\Users\\wooae\\OneDrive\\Documents\\OMSCS\\cs7643\\cs7643-final-project\\AnimeGANv2.py\", line 1, in <module>\n",
            "    from tools.ops import *\n",
            "ModuleNotFoundError: No module named 'tools.ops'\n"
          ]
        }
      ],
      "source": [
        "# Set your data mean values from the style_data_mean_diff output above\n",
        "\n",
        "!python main.py --phase train --dataset $train_set --data_mean 13.100611769017718 -8.665915968872255 -4.434695800145477 --epoch 101 --init_epoch 10"
      ]
    }
  ],
  "metadata": {
    "accelerator": "GPU",
    "colab": {
      "authorship_tag": "ABX9TyNd2QnKoKObdwz4219AYIQv",
      "include_colab_link": true,
      "mount_file_id": "https://github.com/luclement/cs7643-final-project/blob/master/train.ipynb",
      "name": "Untitled0.ipynb",
      "provenance": []
    },
    "kernelspec": {
      "display_name": "Python 3",
      "name": "python3"
    },
    "language_info": {
      "codemirror_mode": {
        "name": "ipython",
        "version": 3
      },
      "file_extension": ".py",
      "mimetype": "text/x-python",
      "name": "python",
      "nbconvert_exporter": "python",
      "pygments_lexer": "ipython3",
      "version": "3.6.13"
    }
  },
  "nbformat": 4,
  "nbformat_minor": 0
}
